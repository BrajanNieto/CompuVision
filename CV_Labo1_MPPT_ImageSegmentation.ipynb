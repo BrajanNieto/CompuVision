{
  "nbformat": 4,
  "nbformat_minor": 0,
  "metadata": {
    "colab": {
      "provenance": [],
      "authorship_tag": "ABX9TyO7h7/KihLqHt/+7ntvOyxb",
      "include_colab_link": true
    },
    "kernelspec": {
      "name": "python3",
      "display_name": "Python 3"
    },
    "language_info": {
      "name": "python"
    }
  },
  "cells": [
    {
      "cell_type": "markdown",
      "metadata": {
        "id": "view-in-github",
        "colab_type": "text"
      },
      "source": [
        "<a href=\"https://colab.research.google.com/github/BrajanNieto/CompuVision/blob/main/CV_Labo1_MPPT_ImageSegmentation.ipynb\" target=\"_parent\"><img src=\"https://colab.research.google.com/assets/colab-badge.svg\" alt=\"Open In Colab\"/></a>"
      ]
    },
    {
      "cell_type": "markdown",
      "source": [
        "#**Computer Vision - Image Segmentation and Edge Detection**\n",
        "\n",
        "---\n",
        "\n",
        "\n",
        "\n",
        "*   This notebook focuses on applying fundamental computer vision techniques for image processing. It includes three main tasks: color-based segmentation of fruits, edge detection in medical X-ray images, and segmentation of traffic signs combining color thresholds and edge detection methods. The objective is to practice RGB/HSV transformations, filtering, and classical operators such as Sobel and Canny.\n",
        "\n",
        "\n",
        "**Authors:**  \n",
        "\n",
        "Nieto Espinoza, Brajan E.  \n",
        "[brajan.nieto@utec.edu.pe](mailto:brajan.nieto@utec.edu.pe)\n",
        "\n",
        "Guedes del Pozo,  Rodrigo J.  \n",
        "[rodrigo.guedes.d@utec.edu.pe](mailto:rodrigo.guedes.d@utec.edu.pe)\n",
        "\n",
        "<img src=\"https://pregrado.utec.edu.pe/sites/default/files/logo-utec-h_0_0.svg\" width=\"190\" alt=\"Logo UTEC\" loading=\"lazy\" typeof=\"foaf:Image\">      \n",
        "\n",
        "---"
      ],
      "metadata": {
        "id": "kCRlFNL0haFB"
      }
    },
    {
      "cell_type": "code",
      "execution_count": null,
      "metadata": {
        "id": "s6Fr7dR9hJuw"
      },
      "outputs": [],
      "source": [
        "# Import standard libraries for numerical computations and data handling\n",
        "import numpy as np\n",
        "import pandas as pd\n",
        "import matplotlib.pyplot as plt\n",
        "from scipy.optimize import fsolve\n",
        "from scipy.special import lambertw\n",
        "import math\n",
        "from tqdm import tqdm\n",
        "from sklearn.neural_network import MLPRegressor"
      ]
    }
  ]
}